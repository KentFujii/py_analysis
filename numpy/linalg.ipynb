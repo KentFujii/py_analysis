{
 "cells": [
  {
   "cell_type": "code",
   "execution_count": 1,
   "metadata": {},
   "outputs": [],
   "source": [
    "import numpy as np"
   ]
  },
  {
   "cell_type": "code",
   "execution_count": 2,
   "metadata": {},
   "outputs": [],
   "source": [
    "x = np.array([[1., 2., 3.], [4, 5, 6]])\n",
    "y = np.array([[6., 23.], [-1, 7], [8, 9]])"
   ]
  },
  {
   "cell_type": "code",
   "execution_count": 3,
   "metadata": {},
   "outputs": [
    {
     "data": {
      "text/plain": [
       "array([[ 1.,  2.,  3.],\n",
       "       [ 4.,  5.,  6.]])"
      ]
     },
     "execution_count": 3,
     "metadata": {},
     "output_type": "execute_result"
    }
   ],
   "source": [
    "x"
   ]
  },
  {
   "cell_type": "code",
   "execution_count": 4,
   "metadata": {},
   "outputs": [
    {
     "data": {
      "text/plain": [
       "array([[  6.,  23.],\n",
       "       [ -1.,   7.],\n",
       "       [  8.,   9.]])"
      ]
     },
     "execution_count": 4,
     "metadata": {},
     "output_type": "execute_result"
    }
   ],
   "source": [
    "y"
   ]
  },
  {
   "cell_type": "code",
   "execution_count": 5,
   "metadata": {},
   "outputs": [
    {
     "data": {
      "text/plain": [
       "array([[  28.,   64.],\n",
       "       [  67.,  181.]])"
      ]
     },
     "execution_count": 5,
     "metadata": {},
     "output_type": "execute_result"
    }
   ],
   "source": [
    "# 内積\n",
    "# (2, 3) . (3, 2) = (2, 2)\n",
    "x.dot(y)"
   ]
  },
  {
   "cell_type": "code",
   "execution_count": 6,
   "metadata": {},
   "outputs": [
    {
     "data": {
      "text/plain": [
       "array([  6.,  15.])"
      ]
     },
     "execution_count": 6,
     "metadata": {},
     "output_type": "execute_result"
    }
   ],
   "source": [
    "# 内積\n",
    "# (2, 3) . (3, 1) = (2, 1)\n",
    "np.dot(x, np.ones(3))"
   ]
  },
  {
   "cell_type": "code",
   "execution_count": 7,
   "metadata": {},
   "outputs": [
    {
     "data": {
      "text/plain": [
       "array([[ 9.30175689, -0.9891074 , -0.35745401, -4.54883831, -2.14574044],\n",
       "       [-0.9891074 ,  6.87315086,  2.57448106,  5.17903781, -2.05081521],\n",
       "       [-0.35745401,  2.57448106,  2.47407546,  1.67237017, -1.28438895],\n",
       "       [-4.54883831,  5.17903781,  1.67237017,  8.57000607, -0.23330462],\n",
       "       [-2.14574044, -2.05081521, -1.28438895, -0.23330462,  2.49091984]])"
      ]
     },
     "execution_count": 7,
     "metadata": {},
     "output_type": "execute_result"
    }
   ],
   "source": [
    "from numpy.linalg import inv, qr\n",
    "\n",
    "\n",
    "X = np.random.randn(5, 5)\n",
    "mat = X.T.dot(X)\n",
    "mat"
   ]
  },
  {
   "cell_type": "code",
   "execution_count": 8,
   "metadata": {},
   "outputs": [
    {
     "data": {
      "text/plain": [
       "array([[ 0.21999817, -0.02769803,  0.09755248,  0.12068927,  0.2283125 ],\n",
       "       [-0.02769803,  0.49588608, -0.20909683, -0.26672289,  0.25161331],\n",
       "       [ 0.09755248, -0.20909683,  0.77551938,  0.03538199,  0.31507503],\n",
       "       [ 0.12068927, -0.26672289,  0.03538199,  0.33322642, -0.06617797],\n",
       "       [ 0.2283125 ,  0.25161331,  0.31507503, -0.06617797,  0.96155284]])"
      ]
     },
     "execution_count": 8,
     "metadata": {},
     "output_type": "execute_result"
    }
   ],
   "source": [
    "# 正方行列に対して逆行列を返す\n",
    "inv(mat)"
   ]
  },
  {
   "cell_type": "code",
   "execution_count": 9,
   "metadata": {},
   "outputs": [
    {
     "data": {
      "text/plain": [
       "array([[  1.00000000e+00,   0.00000000e+00,  -1.11022302e-16,\n",
       "         -1.11022302e-16,   0.00000000e+00],\n",
       "       [ -1.66533454e-16,   1.00000000e+00,   0.00000000e+00,\n",
       "         -1.38777878e-16,   0.00000000e+00],\n",
       "       [  0.00000000e+00,   0.00000000e+00,   1.00000000e+00,\n",
       "         -1.38777878e-17,   0.00000000e+00],\n",
       "       [  1.94289029e-16,  -2.63677968e-16,   1.66533454e-16,\n",
       "          1.00000000e+00,  -4.16333634e-16],\n",
       "       [  0.00000000e+00,  -1.11022302e-16,  -1.11022302e-16,\n",
       "          1.38777878e-16,   1.00000000e+00]])"
      ]
     },
     "execution_count": 9,
     "metadata": {},
     "output_type": "execute_result"
    }
   ],
   "source": [
    "# 正方行列と逆行列の性質を確認\n",
    "# 単位行列が得られる\n",
    "mat.dot(inv(mat))"
   ]
  },
  {
   "cell_type": "code",
   "execution_count": 10,
   "metadata": {},
   "outputs": [
    {
     "data": {
      "text/plain": [
       "array([[-10.62661377,   3.3949731 ,   1.09227014,   8.14140523,\n",
       "          2.04723465],\n",
       "       [  0.        ,  -8.62258211,  -3.71175387,  -7.14682455,\n",
       "          3.31070735],\n",
       "       [  0.        ,   0.        ,  -1.53397574,   1.10242025,\n",
       "          0.80023472],\n",
       "       [  0.        ,   0.        ,   0.        ,  -2.28816719,  -0.2282703 ],\n",
       "       [  0.        ,   0.        ,   0.        ,   0.        ,\n",
       "          0.93508125]])"
      ]
     },
     "execution_count": 10,
     "metadata": {},
     "output_type": "execute_result"
    }
   ],
   "source": [
    "# QR分解する\n",
    "# 直交行列と上三角行列が得られる\n",
    "q, r = qr(mat)\n",
    "r"
   ]
  }
 ],
 "metadata": {
  "kernelspec": {
   "display_name": "Python 3",
   "language": "python",
   "name": "python3"
  },
  "language_info": {
   "codemirror_mode": {
    "name": "ipython",
    "version": 3
   },
   "file_extension": ".py",
   "mimetype": "text/x-python",
   "name": "python",
   "nbconvert_exporter": "python",
   "pygments_lexer": "ipython3",
   "version": "3.5.1"
  }
 },
 "nbformat": 4,
 "nbformat_minor": 2
}
